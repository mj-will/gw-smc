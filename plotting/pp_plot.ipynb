{
 "cells": [
  {
   "cell_type": "markdown",
   "id": "82900521",
   "metadata": {},
   "source": [
    "# Probability-Probability plots\n",
    "\n",
    "This notebook includes code to reproduce Figure 4 and Figures B1-3 which all show P-P plots for the different samplers and combinations of detectors.\n",
    "\n",
    "We use a function from `gw_smc_utils` to produce the P-P plots from the saved credible levels rather than recomputing them."
   ]
  },
  {
   "cell_type": "markdown",
   "id": "6b5e88b4",
   "metadata": {},
   "source": [
    "Import the various modules we need"
   ]
  },
  {
   "cell_type": "code",
   "execution_count": null,
   "id": "b925ebd5",
   "metadata": {},
   "outputs": [],
   "source": [
    "from pathlib import Path\n",
    "from gw_smc_utils.plotting import set_style, pp_plot_from_credible_levels\n",
    "import pandas as pd\n",
    "import matplotlib.pyplot as plt\n",
    "import re\n",
    "\n",
    "set_style()\n",
    "\n",
    "Path(\"figures\").mkdir(exist_ok=True)"
   ]
  },
  {
   "cell_type": "markdown",
   "id": "105a4312",
   "metadata": {},
   "source": [
    "Specify the path to the data release and directory with the pre-computed credible levels."
   ]
  },
  {
   "cell_type": "code",
   "execution_count": null,
   "id": "b7b590ff",
   "metadata": {},
   "outputs": [],
   "source": [
    "\n",
    "data_release_path = Path(\"../data_release/gw_smc_data_release_core/\")\n",
    "credible_levels_path = data_release_path / \"simulated_data\" / \"pp_tests\" / \"credible_levels\"\n"
   ]
  },
  {
   "cell_type": "markdown",
   "id": "b86f1ed5",
   "metadata": {},
   "source": [
    "We specify which parameters to include in the P-P plot."
   ]
  },
  {
   "cell_type": "code",
   "execution_count": null,
   "id": "c3eeb839",
   "metadata": {},
   "outputs": [],
   "source": [
    "keys = [\n",
    "    \"chirp_mass\",\n",
    "    \"mass_ratio\",\n",
    "    \"a_1\",\n",
    "    \"a_2\",\n",
    "    \"tilt_1\",\n",
    "    \"tilt_2\",\n",
    "    \"phi_12\",\n",
    "    \"phi_jl\",\n",
    "    \"luminosity_distance\",\n",
    "    \"dec\",\n",
    "    \"ra\",\n",
    "    \"theta_jn\",\n",
    "    \"psi\",\n",
    "    \"geocent_time\",\n",
    "    \"phase\",\n",
    "]"
   ]
  },
  {
   "cell_type": "markdown",
   "id": "ed536211",
   "metadata": {},
   "source": [
    "We then produce all four P-P plots for `dynesty` and `pocomc`.\n",
    "\n",
    "We use `re` to determine the sampler and number of detectors from the name of the file."
   ]
  },
  {
   "cell_type": "code",
   "execution_count": null,
   "id": "4727caeb",
   "metadata": {},
   "outputs": [],
   "source": [
    "credible_level_files = sorted(credible_levels_path.glob(\"*.hdf5\"))\n",
    "for clf in credible_level_files:\n",
    "    sampler = re.search(r\"(dynesty|pocomc)\", clf.name).group(0)\n",
    "    ndet = re.search(r\"(\\d+)det\", clf.name).group(0)\n",
    "    print(f\"\\nProducing P-P plot for {sampler} in {ndet}\")\n",
    "    if not sampler or not ndet:\n",
    "        raise ValueError(f\"Could not extract sampler or ndet from {clf.name}\")\n",
    "    credible_levels = pd.read_hdf(clf, \"credible_levels\")\n",
    "    fig, pvalues = pp_plot_from_credible_levels(\n",
    "        credible_levels,\n",
    "    )\n",
    "    fig.savefig(f\"figures/pp_test_{sampler}_{ndet}.pdf\")\n",
    "    plt.show()"
   ]
  }
 ],
 "metadata": {
  "kernelspec": {
   "display_name": "gw-smc-sinf",
   "language": "python",
   "name": "python3"
  },
  "language_info": {
   "codemirror_mode": {
    "name": "ipython",
    "version": 3
   },
   "file_extension": ".py",
   "mimetype": "text/x-python",
   "name": "python",
   "nbconvert_exporter": "python",
   "pygments_lexer": "ipython3",
   "version": "3.11.12"
  }
 },
 "nbformat": 4,
 "nbformat_minor": 5
}
