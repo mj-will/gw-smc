{
 "cells": [
  {
   "cell_type": "markdown",
   "id": "82900521",
   "metadata": {},
   "source": [
    "# Probability-Probability tests - Figures 4 & B1-3"
   ]
  },
  {
   "cell_type": "code",
   "execution_count": null,
   "id": "b925ebd5",
   "metadata": {},
   "outputs": [],
   "source": [
    "import h5py\n",
    "from pathlib import Path\n",
    "from gw_smc_utils.plotting import set_style, pp_plot_from_credible_levels\n",
    "import pandas as pd\n",
    "import matplotlib.pyplot as plt\n",
    "import re\n",
    "\n",
    "set_style()\n",
    "\n",
    "Path(\"figures\").mkdir(exist_ok=True)"
   ]
  },
  {
   "cell_type": "code",
   "execution_count": null,
   "id": "b7b590ff",
   "metadata": {},
   "outputs": [],
   "source": [
    "\n",
    "data_release_path = Path(\"../data_release/gw_smc_data_release_results/\")\n",
    "credible_levels_path = data_release_path / \"simulated_data\" / \"pp_tests\" / \"credible_levels\"\n"
   ]
  },
  {
   "cell_type": "code",
   "execution_count": null,
   "id": "c3eeb839",
   "metadata": {},
   "outputs": [],
   "source": [
    "keys = [\n",
    "    \"chirp_mass\",\n",
    "    \"mass_ratio\",\n",
    "    \"a_1\",\n",
    "    \"a_2\",\n",
    "    \"tilt_1\",\n",
    "    \"tilt_2\",\n",
    "    \"phi_12\",\n",
    "    \"phi_jl\",\n",
    "    \"luminosity_distance\",\n",
    "    \"dec\",\n",
    "    \"ra\",\n",
    "    \"theta_jn\",\n",
    "    \"psi\",\n",
    "    \"geocent_time\",\n",
    "    \"phase\",\n",
    "]"
   ]
  },
  {
   "cell_type": "code",
   "execution_count": null,
   "id": "4727caeb",
   "metadata": {},
   "outputs": [],
   "source": [
    "credible_level_files = sorted(credible_levels_path.glob(\"*.hdf5\"))\n",
    "for clf in credible_level_files:\n",
    "    sampler = re.search(r\"(dynesty|pocomc)\", clf.name).group(0)\n",
    "    ndet = re.search(r\"(\\d+)det\", clf.name).group(0)\n",
    "    print(f\"\\nProducing P-P plot for {sampler} in {ndet}\")\n",
    "    if not sampler or not ndet:\n",
    "        raise ValueError(f\"Could not extract sampler or ndet from {clf.name}\")\n",
    "    credible_levels = pd.read_hdf(clf, \"credible_levels\")\n",
    "    fig, pvalues = pp_plot_from_credible_levels(\n",
    "        credible_levels,\n",
    "    )\n",
    "    fig.savefig(f\"figures/pp_test_{sampler}_{ndet}.pdf\")\n",
    "    plt.show()"
   ]
  }
 ],
 "metadata": {
  "kernelspec": {
   "display_name": "gw-smc-sinf",
   "language": "python",
   "name": "python3"
  },
  "language_info": {
   "codemirror_mode": {
    "name": "ipython",
    "version": 3
   },
   "file_extension": ".py",
   "mimetype": "text/x-python",
   "name": "python",
   "nbconvert_exporter": "python",
   "pygments_lexer": "ipython3",
   "version": "3.11.12"
  }
 },
 "nbformat": 4,
 "nbformat_minor": 5
}
