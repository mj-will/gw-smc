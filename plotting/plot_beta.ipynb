{
 "cells": [
  {
   "cell_type": "markdown",
   "metadata": {},
   "source": [
    "# Evolution of a run with pocomc - Figure 3\n",
    "\n",
    "This notebooks includes code to produce Figure 3 in the paper. This shows\n",
    "how the inverse temperature, log-evidence and effective sample size evolve\n",
    "throughout a run using `pocomc` to analyse GW150914."
   ]
  },
  {
   "cell_type": "markdown",
   "metadata": {},
   "source": [
    "Import various modules, set the plotting style and the output directory for the figures."
   ]
  },
  {
   "cell_type": "code",
   "execution_count": null,
   "metadata": {},
   "outputs": [],
   "source": [
    "import matplotlib.pyplot as plt\n",
    "import numpy as np\n",
    "import pickle\n",
    "from pathlib import Path\n",
    "\n",
    "from gw_smc_utils.plotting import set_style\n",
    "\n",
    "set_style()\n",
    "\n",
    "figure_dir = Path(\"figures\")\n",
    "figure_dir.mkdir(exist_ok=True)"
   ]
  },
  {
   "cell_type": "markdown",
   "metadata": {},
   "source": [
    "Define the path to the state file from the pocomc run.\n",
    "\n",
    "We use one of the parallel runs from the analysis of GW150914 that described later in the paper."
   ]
  },
  {
   "cell_type": "code",
   "execution_count": null,
   "metadata": {},
   "outputs": [],
   "source": [
    "data_release_path = Path(\"../data_release/gw_smc_data_release_results/\")\n",
    "state_file = data_release_path / \"real_data\" / \"GW150914_pocomc_final_state.state\""
   ]
  },
  {
   "cell_type": "markdown",
   "metadata": {},
   "source": [
    "Load the state file using `pickle` and get the relevant quantities.\n",
    "\n",
    "For further details, see the [pocomc documentation](https://pocomc.readthedocs.io/en/latest/checkpoint.html#checkpointing)."
   ]
  },
  {
   "cell_type": "code",
   "execution_count": null,
   "metadata": {},
   "outputs": [],
   "source": [
    "with open(state_file, \"rb\") as f:\n",
    "    state = pickle.load(f)\n",
    "\n",
    "particles = state[\"particles\"]\n",
    "beta = particles.get(\"beta\")\n",
    "ess = particles.get(\"ess\")\n",
    "log_z = particles.get(\"logz\")"
   ]
  },
  {
   "cell_type": "markdown",
   "metadata": {},
   "source": [
    "Plot the statistics as as function of iteration"
   ]
  },
  {
   "cell_type": "code",
   "execution_count": null,
   "metadata": {},
   "outputs": [],
   "source": [
    "figsize = plt.rcParams[\"figure.figsize\"].copy()\n",
    "figsize[1] *= 1.2\n",
    "fig, axs = plt.subplots(4, 1, sharex=True, figsize=figsize)\n",
    "\n",
    "axs[0].plot(beta, ls=\"\", marker=\".\")\n",
    "axs[0].set_ylabel(r\"$\\beta$\")\n",
    "\n",
    "axs[1].plot(log_z, ls=\"\", marker=\".\")\n",
    "axs[1].set_ylabel(r\"$\\log Z$\")\n",
    "\n",
    "axs[2].plot(np.arange(1, len(beta) - 1), np.diff(log_z[1:] - log_z[:-1]), ls=\"\", marker=\".\")\n",
    "axs[2].set_ylabel(r\"$\\Delta\\log Z$\")\n",
    "\n",
    "axs[3].plot(ess, ls=\"\", marker=\".\")\n",
    "axs[3].set_ylabel(\"ESS\")\n",
    "\n",
    "final_smc_it = np.argmax(beta == 1)\n",
    "\n",
    "# Add vertical lines to indicate the final SMC iteration when beta reaches 1\n",
    "for ax in axs:\n",
    "    ax.axvline(final_smc_it, color=\"black\", linestyle=\"--\")\n",
    "\n",
    "axs[-1].set_xlabel(\"Iteration\")\n",
    "fig.savefig(figure_dir / \"pocomc_history.pdf\")"
   ]
  },
  {
   "cell_type": "code",
   "execution_count": null,
   "metadata": {},
   "outputs": [],
   "source": []
  }
 ],
 "metadata": {
  "kernelspec": {
   "display_name": "gw-smc-sinf",
   "language": "python",
   "name": "python3"
  },
  "language_info": {
   "codemirror_mode": {
    "name": "ipython",
    "version": 3
   },
   "file_extension": ".py",
   "mimetype": "text/x-python",
   "name": "python",
   "nbconvert_exporter": "python",
   "pygments_lexer": "ipython3",
   "version": "3.11.12"
  }
 },
 "nbformat": 4,
 "nbformat_minor": 2
}
