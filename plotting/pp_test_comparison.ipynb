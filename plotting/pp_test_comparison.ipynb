{
 "cells": [
  {
   "cell_type": "markdown",
   "metadata": {},
   "source": [
    "# Comparisons to dynesty\n",
    "\n",
    "This notebook contains code to reproduce Figure 6, 7, and 8 from the paper which compare results\n",
    "the results obtained with `dynesty` and `pocomc` when analyzing the 100 binary black hole signals\n",
    "use for the [P-P tests](./pp_plot)."
   ]
  },
  {
   "cell_type": "markdown",
   "metadata": {},
   "source": [
    "## Imports\n",
    "\n",
    "We import that various modules that we'll use."
   ]
  },
  {
   "cell_type": "code",
   "execution_count": null,
   "metadata": {},
   "outputs": [],
   "source": [
    "import numpy as np\n",
    "import h5py\n",
    "from pathlib import Path\n",
    "import pandas as pd\n",
    "import matplotlib.pyplot as plt\n",
    "\n",
    "from gw_smc_utils.plotting import set_style, lighten_colour\n",
    "\n",
    "set_style()"
   ]
  },
  {
   "cell_type": "markdown",
   "metadata": {},
   "source": [
    "## Data release path\n",
    "\n",
    "We define the path to the data release and to the summary file that contains\n",
    "the run statistics used to make these plots."
   ]
  },
  {
   "cell_type": "code",
   "execution_count": null,
   "metadata": {},
   "outputs": [],
   "source": [
    "data_release_path = Path(\"../data_release/gw_smc_data_release_core/\")\n",
    "summary_file = (\n",
    "    data_release_path / \"simulated_data\" / \"pp_tests\" / \"pp_test_results_summary.hdf5\"\n",
    ")"
   ]
  },
  {
   "cell_type": "markdown",
   "metadata": {},
   "source": [
    "## Injections and SNRs\n",
    "\n",
    "We also load the injections so that we can compute the SNRs on injections."
   ]
  },
  {
   "cell_type": "code",
   "execution_count": null,
   "metadata": {},
   "outputs": [],
   "source": [
    "injections = pd.read_hdf(\n",
    "    \"../data_release/gw_smc_data_release_data/pp_test_injection_file.hdf5\", \"injections\"\n",
    ")\n",
    "n_injections = len(injections)"
   ]
  },
  {
   "cell_type": "markdown",
   "metadata": {},
   "source": [
    "Compute the network SNR"
   ]
  },
  {
   "cell_type": "code",
   "execution_count": null,
   "metadata": {},
   "outputs": [],
   "source": [
    "network_snr_3det = injections[\"network_snr\"]\n",
    "network_snr_2det = np.sqrt(injections[\"H1_snr\"] ** 2 + injections[\"L1_snr\"] ** 2)"
   ]
  },
  {
   "cell_type": "markdown",
   "metadata": {},
   "source": [
    "We plot the SNR, this plot is not shown in the paper but highlights how the\n",
    "a large fraction of the signals have SNRs at or below 8."
   ]
  },
  {
   "cell_type": "code",
   "execution_count": null,
   "metadata": {},
   "outputs": [],
   "source": [
    "plt.hist(network_snr_2det, bins=32, label=\"2\", histtype=\"step\", color=\"C0\")\n",
    "plt.hist(network_snr_3det, bins=32, label=\"3\", histtype=\"step\", color=\"C1\")\n",
    "plt.legend(title=\"\\# detectors\")\n",
    "plt.xlabel(\"Network SNR\")\n",
    "plt.axvline(8, ls=\"--\", color=\"k\")\n",
    "plt.text(8, 33, \"SNR 8\", rotation=0)\n",
    "plt.show()\n",
    "\n",
    "print(\"Median 3-detector network SNR: \", np.median(network_snr_3det))\n",
    "print(\"Median 2-detector network SNR: \", np.median(network_snr_2det))"
   ]
  },
  {
   "cell_type": "markdown",
   "metadata": {},
   "source": [
    "## Loading the data and configuring the plots\n",
    "\n",
    "We then load the statistics from the summary file into a dictionary which\n",
    "contains another dictionary with results for each sampler."
   ]
  },
  {
   "cell_type": "code",
   "execution_count": null,
   "metadata": {},
   "outputs": [],
   "source": [
    "data = {}\n",
    "with h5py.File(summary_file, \"r\") as f:\n",
    "    for sampler in f.keys():\n",
    "        data[sampler] = {}\n",
    "        for ndetector in f[sampler].keys():\n",
    "            data[sampler][ndetector] = {}\n",
    "            for key in f[sampler][ndetector].keys():\n",
    "                data[sampler][ndetector][key] = f[sampler][ndetector][key][:]"
   ]
  },
  {
   "cell_type": "markdown",
   "metadata": {},
   "source": [
    "We define the colours to be used for each sampler"
   ]
  },
  {
   "cell_type": "code",
   "execution_count": null,
   "metadata": {},
   "outputs": [],
   "source": [
    "colours = {\n",
    "    \"pocomc\": \"C0\",\n",
    "    \"dynesty\": \"C1\",\n",
    "}"
   ]
  },
  {
   "cell_type": "markdown",
   "metadata": {},
   "source": [
    "## Figure 6 - Log-evidence\n",
    "\n",
    "This figure shows the difference in the log-evidences reported by both samplers\n"
   ]
  },
  {
   "cell_type": "code",
   "execution_count": null,
   "metadata": {},
   "outputs": [],
   "source": [
    "figsize = plt.rcParams[\"figure.figsize\"].copy()\n",
    "figsize[1] = 2.3 * figsize[1]\n",
    "fig, axs = plt.subplots(3, 1, figsize=figsize)\n",
    "\n",
    "# Compute the various quantities of interest\n",
    "diff_2det = (\n",
    "    data[\"dynesty\"][\"2det\"][\"log_evidence\"] - data[\"pocomc\"][\"2det\"][\"log_evidence\"]\n",
    ")\n",
    "diff_3det = (\n",
    "    data[\"dynesty\"][\"3det\"][\"log_evidence\"] - data[\"pocomc\"][\"3det\"][\"log_evidence\"]\n",
    ")\n",
    "\n",
    "relative_diff_2det = (\n",
    "    data[\"dynesty\"][\"2det\"][\"log_evidence\"] - data[\"pocomc\"][\"2det\"][\"log_evidence\"]\n",
    ") / np.abs(data[\"dynesty\"][\"2det\"][\"log_evidence\"])\n",
    "relative_diff_3det = (\n",
    "    data[\"dynesty\"][\"3det\"][\"log_evidence\"] - data[\"pocomc\"][\"3det\"][\"log_evidence\"]\n",
    ") / np.abs(data[\"dynesty\"][\"3det\"][\"log_evidence\"])\n",
    "\n",
    "error_diff_2det = (\n",
    "    data[\"dynesty\"][\"2det\"][\"log_evidence_error\"]\n",
    "    - data[\"pocomc\"][\"2det\"][\"log_evidence_error\"]\n",
    ")\n",
    "error_diff_3det = (\n",
    "    data[\"dynesty\"][\"3det\"][\"log_evidence_error\"]\n",
    "    - data[\"pocomc\"][\"3det\"][\"log_evidence_error\"]\n",
    ")\n",
    "\n",
    "# Plot the differences\n",
    "axs[0].hist(\n",
    "    diff_2det, bins=20, histtype=\"step\", label=\"2\", color=lighten_colour(\"k\", 0.5)\n",
    ")\n",
    "axs[0].hist(diff_3det, bins=20, histtype=\"step\", label=\"3\", color=\"k\")\n",
    "\n",
    "axs[0].set_xlabel(r\"$\\Delta\\ln Z$\")\n",
    "axs[0].set_ylabel(\"Count\")\n",
    "\n",
    "axs[1].hist(\n",
    "    relative_diff_2det,\n",
    "    bins=20,\n",
    "    histtype=\"step\",\n",
    "    label=\"2\",\n",
    "    color=lighten_colour(\"k\", 0.5),\n",
    ")\n",
    "axs[1].hist(relative_diff_3det, bins=20, histtype=\"step\", label=\"3\", color=\"k\")\n",
    "\n",
    "axs[1].set_xlabel(r\"$\\Delta \\ln Z / \\ln Z_{\\texttt{dynesty}}$\")\n",
    "axs[1].set_ylabel(\"Count\")\n",
    "\n",
    "axs[2].hist(\n",
    "    error_diff_2det, bins=20, histtype=\"step\", label=\"2\", color=lighten_colour(\"k\", 0.5)\n",
    ")\n",
    "axs[2].hist(error_diff_3det, bins=20, histtype=\"step\", label=\"3\", color=\"k\")\n",
    "axs[2].set_xlabel(r\"$\\Delta \\sigma[\\ln Z]$\")\n",
    "axs[2].set_ylabel(\"Count\")\n",
    "\n",
    "axs[0].legend(title=\"\\# detectors\", loc=\"upper right\")\n",
    "plt.tight_layout()\n",
    "\n",
    "fig.savefig(\"figures/log_evidence_differences.pdf\", bbox_inches=\"tight\")"
   ]
  },
  {
   "cell_type": "markdown",
   "metadata": {},
   "source": [
    "## Figure 7 - Number of Posterior Samples\n",
    "\n",
    "This figure shows the number independent and identically distributed (i.i.d) samples\n",
    "produced by each sampler."
   ]
  },
  {
   "cell_type": "code",
   "execution_count": null,
   "metadata": {},
   "outputs": [],
   "source": [
    "figsize = plt.rcParams[\"figure.figsize\"].copy()\n",
    "figsize[1] = 1.2 * figsize[1]\n",
    "fig = plt.figure(figsize=figsize)\n",
    "\n",
    "detector_ls = {\n",
    "    \"3det\": {\"ls\": \"-\"},\n",
    "    \"2det\": {\"ls\": \"--\"},\n",
    "}\n",
    "hist_kwargs = dict(\n",
    "    bins=10,\n",
    "    histtype=\"step\",\n",
    ")\n",
    "\n",
    "labels = {\n",
    "    \"3det\": \"3 detectors\",\n",
    "    \"2det\": \"2 detectors\",\n",
    "    \"pocomc\": r\"\\texttt{pocomc}\",\n",
    "    \"dynesty\": r\"\\texttt{dynesty}\",\n",
    "}\n",
    "\n",
    "\n",
    "for sampler, det_data in data.items():\n",
    "    for det, vals in det_data.items():\n",
    "        colour = colours[sampler]\n",
    "        if det == \"2det\":\n",
    "            colour = lighten_colour(colour, 0.5)\n",
    "        plt.hist(\n",
    "            vals[\"n_samples\"],\n",
    "            label=f\"{labels[sampler]} - {labels[det]}\",\n",
    "            color=colour,\n",
    "            **detector_ls[det],\n",
    "            **hist_kwargs,\n",
    "        )\n",
    "legend = plt.legend(\n",
    "    frameon=True, framealpha=1.0, fancybox=False, loc=\"upper right\", fontsize=7\n",
    ")\n",
    "legend.get_frame().set_linewidth(0.5)\n",
    "plt.xlabel(\"I.I.D. samples\")\n",
    "plt.ylabel(\"Count\")\n",
    "plt.tight_layout()\n",
    "fig.savefig(\"figures/n_samples.pdf\", bbox_inches=\"tight\")\n",
    "plt.show()"
   ]
  },
  {
   "cell_type": "markdown",
   "metadata": {},
   "source": [
    "## Figure 8 - Likelihood Evaluations & Sampling Time\n",
    "\n",
    "Here, we compare the number of likelihood evaluations and sampling time for both samplers.\n",
    "\n",
    "We also include the statistics per samples since the samplers do not produce the same number of samples."
   ]
  },
  {
   "cell_type": "code",
   "execution_count": null,
   "metadata": {},
   "outputs": [],
   "source": [
    "figsize = plt.rcParams[\"figure.figsize\"].copy()\n",
    "figsize[1] = 2.8 * figsize[1]\n",
    "fig, axs = plt.subplots(3, 1, figsize=figsize)\n",
    "\n",
    "marker_kwargs = {\n",
    "    \"3det\": dict(marker=\"o\", s=5),\n",
    "    \"2det\": dict(marker=\"^\", s=5),\n",
    "}\n",
    "for sampler, det_data in data.items():\n",
    "    for det, vals in det_data.items():\n",
    "        colour = colours[sampler]\n",
    "        if det == \"2det\":\n",
    "            colour = lighten_colour(colour, 0.5)\n",
    "        axs[0].scatter(\n",
    "            vals[\"likelihood_evaluations\"],\n",
    "            vals[\"sampling_time\"] / 3600,\n",
    "            label=f\"{sampler} {det}\",\n",
    "            color=colour,\n",
    "            **marker_kwargs[det],\n",
    "        )\n",
    "\n",
    "        axs[1].scatter(\n",
    "            vals[\"likelihood_evaluations\"] / vals[\"n_samples\"],\n",
    "            vals[\"sampling_time\"] / vals[\"n_samples\"],\n",
    "            label=f\"{sampler} {det}\",\n",
    "            color=colour,\n",
    "            **marker_kwargs[det],\n",
    "        )\n",
    "\n",
    "axs[0].set_xlabel(\"Likelihood evaluations\")\n",
    "axs[0].set_ylabel(\"Sampling time [hours]\")\n",
    "axs[0].set_xscale(\"log\")\n",
    "axs[0].set_yscale(\"log\")\n",
    "\n",
    "axs[1].set_xlabel(r\"Likelihood evaluations per sample\")\n",
    "axs[1].set_ylabel(r\"Sampling time\\\\per sample [seconds]\")\n",
    "axs[1].set_xscale(\"log\")\n",
    "axs[1].set_yscale(\"log\")\n",
    "\n",
    "for det in [\"3det\", \"2det\"]:\n",
    "    dynesty_evals_weighted = (\n",
    "        data[\"dynesty\"][det][\"likelihood_evaluations\"]\n",
    "        / data[\"dynesty\"][det][\"n_samples\"]\n",
    "    )\n",
    "    pocomc_evals_weighted = (\n",
    "        data[\"pocomc\"][det][\"likelihood_evaluations\"] / data[\"pocomc\"][det][\"n_samples\"]\n",
    "    )\n",
    "    dynesty_time_weighted = (\n",
    "        data[\"dynesty\"][det][\"sampling_time\"] / data[\"dynesty\"][det][\"n_samples\"]\n",
    "    )\n",
    "    pocomc_time_weighted = (\n",
    "        data[\"pocomc\"][det][\"sampling_time\"] / data[\"pocomc\"][det][\"n_samples\"]\n",
    "    )\n",
    "\n",
    "    colour = \"black\"\n",
    "    if det == \"2det\":\n",
    "        colour = lighten_colour(colour, 0.5)\n",
    "    axs[2].scatter(\n",
    "        dynesty_evals_weighted / pocomc_evals_weighted,\n",
    "        dynesty_time_weighted / pocomc_time_weighted,\n",
    "        color=colour,\n",
    "        **marker_kwargs[det],\n",
    "    )\n",
    "\n",
    "    print(\n",
    "        f\"{det} mean ratio (evals): {np.nanmean(dynesty_evals_weighted / pocomc_evals_weighted):.2f} +/- {np.nanstd(dynesty_evals_weighted / pocomc_evals_weighted):.2f}\"\n",
    "    )\n",
    "    print(\n",
    "        f\"{det} mean ratio (time): {np.nanmean(dynesty_time_weighted / pocomc_time_weighted):.2f} +/- {np.nanstd(dynesty_time_weighted / pocomc_time_weighted):.2f}\"\n",
    "    )\n",
    "\n",
    "axs[2].set_xlabel(\n",
    "    r\"\\texttt{dynesty} / \\texttt{pocomc}\" + \"\\nlikelihood evaluations per sample\",\n",
    "    multialignment=\"center\",\n",
    ")\n",
    "axs[2].set_ylabel(\n",
    "    r\"\\texttt{dynesty} / \\texttt{pocomc}\" + \"\\ntime per sample\", multialignment=\"center\"\n",
    ")\n",
    "\n",
    "# Manually add a legend\n",
    "legend_handles = [\n",
    "    plt.Line2D(\n",
    "        [0],\n",
    "        [0],\n",
    "        marker=\"o\",\n",
    "        color=\"w\",\n",
    "        label=\"3-detector\",\n",
    "        markerfacecolor=\"k\",\n",
    "        markersize=5,\n",
    "    ),\n",
    "    plt.Line2D(\n",
    "        [0],\n",
    "        [0],\n",
    "        marker=\"^\",\n",
    "        color=\"w\",\n",
    "        label=\"2-detector\",\n",
    "        markerfacecolor=lighten_colour(\"k\", 0.5),\n",
    "        markersize=5,\n",
    "    ),\n",
    "    plt.Line2D(\n",
    "        [0],\n",
    "        [0],\n",
    "        marker=\"s\",\n",
    "        color=\"w\",\n",
    "        label=\"pocomc\",\n",
    "        markerfacecolor=\"C0\",\n",
    "        markersize=5,\n",
    "    ),\n",
    "    plt.Line2D(\n",
    "        [0],\n",
    "        [0],\n",
    "        marker=\"s\",\n",
    "        color=\"w\",\n",
    "        label=\"dynesty\",\n",
    "        markerfacecolor=\"C1\",\n",
    "        markersize=5,\n",
    "    ),\n",
    "]\n",
    "fig.legend(handles=legend_handles, loc=\"center\", bbox_to_anchor=(0.5, -0.01), ncol=4)\n",
    "\n",
    "plt.tight_layout()\n",
    "\n",
    "fig.savefig(\"figures/sampling_time_vs_likelihood_evaluations.pdf\", bbox_inches=\"tight\")\n",
    "plt.show()"
   ]
  },
  {
   "cell_type": "code",
   "execution_count": null,
   "metadata": {},
   "outputs": [],
   "source": []
  }
 ],
 "metadata": {
  "kernelspec": {
   "display_name": "gw-smc",
   "language": "python",
   "name": "python3"
  },
  "language_info": {
   "codemirror_mode": {
    "name": "ipython",
    "version": 3
   },
   "file_extension": ".py",
   "mimetype": "text/x-python",
   "name": "python",
   "nbconvert_exporter": "python",
   "pygments_lexer": "ipython3",
   "version": "3.11.12"
  }
 },
 "nbformat": 4,
 "nbformat_minor": 2
}
