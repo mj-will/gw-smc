{
 "cells": [
  {
   "cell_type": "markdown",
   "metadata": {},
   "source": [
    "# Jensen-Shannon Divergence\n",
    "\n",
    "This notebook contains code to reproduce Figure 5 from the paper. It uses precomputed Jensen-Shannon divergences\n",
    "which are included in the data release."
   ]
  },
  {
   "cell_type": "markdown",
   "metadata": {},
   "source": [
    "## Imports"
   ]
  },
  {
   "cell_type": "code",
   "execution_count": null,
   "metadata": {},
   "outputs": [],
   "source": [
    "import matplotlib.pyplot as plt\n",
    "from matplotlib.patches import Patch\n",
    "from matplotlib.backends.backend_pgf import FigureCanvasPgf\n",
    "import numpy as np\n",
    "import seaborn as sns\n",
    "import json\n",
    "from pathlib import Path\n",
    "import pandas as pd\n",
    "import glob\n",
    "from natsort import natsorted\n",
    "import os\n",
    "import re\n",
    "\n",
    "from pesummary.gw.plots.latex_labels import GWlatex_labels\n",
    "\n",
    "from gw_smc_utils.plotting import set_style\n",
    "\n",
    "GWlatex_labels[\"azimuth\"] = r\"$\\epsilon$\"\n",
    "GWlatex_labels[\"zenith\"] = r\"$\\kappa$\"\n",
    "\n",
    "set_style()"
   ]
  },
  {
   "cell_type": "markdown",
   "metadata": {},
   "source": [
    "## Data release path\n",
    "\n",
    "We specify the path to the data release and to the injection file."
   ]
  },
  {
   "cell_type": "code",
   "execution_count": null,
   "metadata": {},
   "outputs": [],
   "source": [
    "data_release_path = Path(\"../data_release/gw_smc_data_release_core\")"
   ]
  },
  {
   "cell_type": "code",
   "execution_count": null,
   "metadata": {},
   "outputs": [],
   "source": [
    "injections = pd.read_hdf(\n",
    "    data_release_path / \"simulated_data\" / \"pp_tests\" / \"pp_test_injection_file.hdf5\",\n",
    "    \"injections\",\n",
    ")"
   ]
  },
  {
   "cell_type": "markdown",
   "metadata": {},
   "source": [
    "## Loading the JSD values\n",
    "\n",
    "We define a function to load the JSD values from the files in the data release"
   ]
  },
  {
   "cell_type": "code",
   "execution_count": null,
   "metadata": {},
   "outputs": [],
   "source": [
    "def load_values(path, key=\"jsd\"):\n",
    "    files = natsorted(glob.glob(os.path.join(path, \"*.json\")))\n",
    "    values = []\n",
    "    for fd in files:\n",
    "        with open(fd, \"r\") as f:\n",
    "            entry = json.load(f)\n",
    "        values.append({k: np.median(v) for k, v in entry[key].items()})\n",
    "    df = pd.DataFrame(values)\n",
    "    return df"
   ]
  },
  {
   "cell_type": "markdown",
   "metadata": {},
   "source": [
    "Specify the path to the JSD results"
   ]
  },
  {
   "cell_type": "code",
   "execution_count": null,
   "metadata": {},
   "outputs": [],
   "source": [
    "jsd_path = data_release_path / \"simulated_data\" / \"pp_tests\" / \"jsd_results\"\n",
    "jsd_path_2det = jsd_path / \"2det\"\n",
    "jsd_path_3det = jsd_path / \"3det\""
   ]
  },
  {
   "cell_type": "markdown",
   "metadata": {},
   "source": [
    "We check for missing results"
   ]
  },
  {
   "cell_type": "code",
   "execution_count": null,
   "metadata": {},
   "outputs": [],
   "source": [
    "# Check for missing JSD results\n",
    "n_injections = len(injections)\n",
    "for p in [jsd_path_2det, jsd_path_3det]:\n",
    "    missing = []\n",
    "    for i in range(n_injections):\n",
    "        if not os.path.exists(p / f\"data{i}.json\"):\n",
    "            missing.append(i)\n",
    "    print(f\"Missing JSD for {p}: {missing}\")"
   ]
  },
  {
   "cell_type": "markdown",
   "metadata": {},
   "source": [
    "Load JSD values.\n",
    "\n",
    "Since we use the time of arrival at the detector with highest SNR when performing inference,\n",
    "we combine the JSD values for these into a single time variable."
   ]
  },
  {
   "cell_type": "code",
   "execution_count": null,
   "metadata": {},
   "outputs": [],
   "source": [
    "jsds_2det = load_values(jsd_path_2det)\n",
    "# Merge the time parameters into one\n",
    "jsds_2det[\"time\"] = jsds_2det[\"L1_time\"].fillna(jsds_2det[\"H1_time\"])\n",
    "\n",
    "jsds_3det = load_values(jsd_path_3det)\n",
    "# Merge the time parameters into one\n",
    "jsds_3det[\"time\"] = (\n",
    "    jsds_3det[\"L1_time\"].fillna(jsds_3det[\"H1_time\"]).fillna(jsds_3det[\"V1_time\"])\n",
    ")"
   ]
  },
  {
   "cell_type": "markdown",
   "metadata": {},
   "source": [
    "## Figure 5 - JSD distributions\n",
    "\n",
    "The code below produces the figure.\n",
    "\n",
    "The figure is rasterized due to issues with rendering the hatching in PDFs."
   ]
  },
  {
   "cell_type": "code",
   "execution_count": null,
   "metadata": {},
   "outputs": [],
   "source": [
    "top_df = jsds_3det\n",
    "bottom_df = jsds_2det\n",
    "\n",
    "left_label = \"3-detector\"\n",
    "right_label = \"2-detector\"\n",
    "\n",
    "label = \"jsd_vertical\"\n",
    "\n",
    "n_bins = 24\n",
    "\n",
    "sep = 2.1\n",
    "\n",
    "single_width = sep / 2\n",
    "\n",
    "# Get the list of parameters\n",
    "parameters = jsds_3det.columns.tolist()\n",
    "# Remove the per-detector times\n",
    "parameters.remove(\"H1_time\")\n",
    "parameters.remove(\"L1_time\")\n",
    "parameters.remove(\"V1_time\")\n",
    "n_parameters = len(parameters)\n",
    "\n",
    "max_jsd_top = np.array(top_df.T.max())\n",
    "max_jsd_bottom = np.array(bottom_df.T.max())\n",
    "\n",
    "median_jsd_left = np.array(top_df.T.mean())\n",
    "median_jsd_right = np.array(bottom_df.T.median())\n",
    "\n",
    "\n",
    "# Convert to mbits\n",
    "base_conversion = 1000  # / np.log2\n",
    "\n",
    "yticks = np.arange(0, (n_parameters + 2) * sep, sep)\n",
    "\n",
    "left = 0\n",
    "\n",
    "bins = np.logspace(-1, 2.6, n_bins, base=10)\n",
    "factor = 1 * base_conversion\n",
    "\n",
    "n_samples = 5000\n",
    "threshold = (10 / n_samples) * 1000\n",
    "\n",
    "colours = np.tile(sns.color_palette(\"crest\", n_colors=9), (2, 1))\n",
    "\n",
    "# For some reason, the this doesn't work in a context manager\n",
    "plt.rcParams[\"hatch.linewidth\"] = 1.0\n",
    "with plt.rc_context(\n",
    "    {\n",
    "        \"hatch.color\": \"white\",\n",
    "    }\n",
    "):\n",
    "    figsize = plt.rcParams[\"figure.figsize\"].copy()\n",
    "    figsize[0] = 1 * figsize[0]\n",
    "    figsize[1] = 2 * figsize[1]\n",
    "    fig = plt.figure(figsize=figsize)\n",
    "\n",
    "    for i, parameter in enumerate(parameters):\n",
    "        vals = top_df[parameter] * factor\n",
    "        # print(vals)\n",
    "        freqs, bin_edges = np.histogram(vals, bins=bins)\n",
    "        freqs = freqs / freqs.max()\n",
    "        bin_centres = (bin_edges[:-1] + bin_edges[1:]) / 2\n",
    "        widths = np.diff(bin_edges)\n",
    "        plt.bar(bin_centres, -freqs, bottom=left, width=widths, color=colours[i])\n",
    "\n",
    "        vals = bottom_df[parameter] * factor\n",
    "        # print(vals)\n",
    "        freqs, bin_edges = np.histogram(vals, bins=bins)\n",
    "        freqs = freqs / freqs.max()\n",
    "        bin_centres = (bin_edges[:-1] + bin_edges[1:]) / 2\n",
    "        widths = np.diff(bin_edges)\n",
    "        plt.bar(\n",
    "            bin_centres,\n",
    "            freqs,\n",
    "            bottom=left,\n",
    "            width=widths,\n",
    "            color=colours[i],\n",
    "            hatch=\"///\",\n",
    "            # edgecolor=colours[i],\n",
    "            rasterized=True,\n",
    "        )\n",
    "\n",
    "        left += sep\n",
    "\n",
    "    freqs, bin_edges = np.histogram(max_jsd_top * factor, bins=bins)\n",
    "    freqs = freqs / freqs.max()\n",
    "    bin_centres = (bin_edges[:-1] + bin_edges[1:]) / 2\n",
    "    widths = np.diff(bin_edges)\n",
    "    plt.bar(\n",
    "        bin_centres, -freqs, bottom=left, width=widths, color=\"darkred\", rasterized=True\n",
    "    )\n",
    "\n",
    "    freqs, bin_edges = np.histogram(max_jsd_bottom * factor, bins=bins)\n",
    "    freqs = freqs / freqs.max()\n",
    "    bin_centres = (bin_edges[:-1] + bin_edges[1:]) / 2\n",
    "    widths = np.diff(bin_edges)\n",
    "    plt.bar(\n",
    "        bin_centres,\n",
    "        freqs,\n",
    "        bottom=left,\n",
    "        width=widths,\n",
    "        color=\"darkred\",\n",
    "        hatch=\"///\",\n",
    "        rasterized=True,\n",
    "    )\n",
    "\n",
    "    left += sep\n",
    "\n",
    "    freqs, bin_edges = np.histogram(median_jsd_left * factor, bins=bins)\n",
    "    freqs = freqs / freqs.max()\n",
    "    bin_centres = (bin_edges[:-1] + bin_edges[1:]) / 2\n",
    "    widths = np.diff(bin_edges)\n",
    "    plt.bar(\n",
    "        bin_centres,\n",
    "        -freqs,\n",
    "        bottom=left,\n",
    "        width=widths,\n",
    "        color=\"darkorange\",\n",
    "        rasterized=True,\n",
    "    )\n",
    "\n",
    "    freqs, bin_edges = np.histogram(median_jsd_right * factor, bins=bins)\n",
    "    freqs = freqs / freqs.max()\n",
    "    bin_centres = (bin_edges[:-1] + bin_edges[1:]) / 2\n",
    "    widths = np.diff(bin_edges)\n",
    "    plt.bar(\n",
    "        bin_centres,\n",
    "        freqs,\n",
    "        bottom=left,\n",
    "        width=widths,\n",
    "        color=\"darkorange\",\n",
    "        hatch=\"///\",\n",
    "        rasterized=True,\n",
    "    )\n",
    "\n",
    "    plt.xscale(\"log\")\n",
    "    plt.ylim(bottom=-sep, top=left + sep)\n",
    "\n",
    "    plt.axvline(threshold, ls=\"--\", color=\"k\")\n",
    "\n",
    "    ytick_labels = [\n",
    "        GWlatex_labels.get(parameter, parameter) for parameter in parameters\n",
    "    ]\n",
    "    ytick_labels.append(\"Max.\")\n",
    "    ytick_labels.append(\"Median\")\n",
    "    # Remove units in square brackets\n",
    "    ytick_labels = [re.sub(r\"\\[.*?\\]\", \"\", label) for label in ytick_labels]\n",
    "\n",
    "    plt.yticks(\n",
    "        yticks,\n",
    "        labels=ytick_labels,\n",
    "    )\n",
    "    plt.tick_params(axis=\"y\", which=\"minor\", left=False, right=False)\n",
    "\n",
    "    plt.gca().invert_yaxis()\n",
    "\n",
    "    plt.xlabel(r\"$D_{\\rm JS}$ [mbits]\")\n",
    "\n",
    "    handles = [\n",
    "        Patch(facecolor=\"grey\", label=left_label),\n",
    "        Patch(facecolor=\"grey\", label=right_label, hatch=\"///\"),\n",
    "    ]\n",
    "\n",
    "    plt.tight_layout()\n",
    "    legend = plt.legend(\n",
    "        handles=handles, loc=\"center\", bbox_to_anchor=(0.5, -0.15), ncol=2\n",
    "    )\n",
    "\n",
    "    for patch in legend.get_patches():\n",
    "        patch.set_rasterized(True)\n",
    "\n",
    "    canvas = FigureCanvasPgf(fig)\n",
    "    canvas.print_figure(f\"figures/{label}.pdf\", dpi=300)"
   ]
  },
  {
   "cell_type": "code",
   "execution_count": null,
   "metadata": {},
   "outputs": [],
   "source": []
  }
 ],
 "metadata": {
  "kernelspec": {
   "display_name": "gw-smc-sinf",
   "language": "python",
   "name": "python3"
  },
  "language_info": {
   "codemirror_mode": {
    "name": "ipython",
    "version": 3
   },
   "file_extension": ".py",
   "mimetype": "text/x-python",
   "name": "python",
   "nbconvert_exporter": "python",
   "pygments_lexer": "ipython3",
   "version": "3.11.12"
  }
 },
 "nbformat": 4,
 "nbformat_minor": 2
}
